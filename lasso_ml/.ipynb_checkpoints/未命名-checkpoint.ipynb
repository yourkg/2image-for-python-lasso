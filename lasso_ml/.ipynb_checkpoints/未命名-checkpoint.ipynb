{
 "cells": [
  {
   "cell_type": "code",
   "execution_count": 2,
   "id": "fb3ff0d8",
   "metadata": {},
   "outputs": [],
   "source": [
    "import pandas as pd\n",
    "import numpy as np\n",
    "from sklearn.utils import shuffle\n",
    "from sklearn.preprocessing import StandardScaler\n",
    "from sklearn.linear_model import LassoCV"
   ]
  },
  {
   "cell_type": "code",
   "execution_count": 9,
   "id": "03ee5136",
   "metadata": {},
   "outputs": [
    {
     "name": "stdout",
     "output_type": "stream",
     "text": [
      "   label  Elongation  Flatness  LeastAxisLength  MajorAxisLength  \\\n",
      "8      1     0.64626  0.512811         38.20333         74.49793   \n",
      "\n",
      "   Maximum2DDiameterColumn  Maximum2DDiameterRow  Maximum2DDiameterSlice  \\\n",
      "8                61.269895             79.699435               71.449283   \n",
      "\n",
      "   Maximum3DDiameter   MeshVolume  ...  SmallAreaHighGrayLevelEmphasis.8  \\\n",
      "8          80.131143  92539.54167  ...                         32.001671   \n",
      "\n",
      "   SmallAreaLowGrayLevelEmphasis.8  ZoneEntropy.8  ZonePercentage.8  \\\n",
      "8                         0.005164       6.766311          0.009169   \n",
      "\n",
      "   ZoneVariance.8  Busyness.8  Coarseness.8  Complexity.8  Contrast.17  \\\n",
      "8     2310535.242   36.417059      0.000115     47.658339     0.006993   \n",
      "\n",
      "   Strength.8  \n",
      "8    0.019358  \n",
      "\n",
      "[1 rows x 852 columns]\n",
      "---------------------------------------------\n",
      "   label  Elongation  Flatness  LeastAxisLength  MajorAxisLength  \\\n",
      "0      1    0.836619  0.576249        17.467560        30.312511   \n",
      "1      1    0.716841  0.460947        44.135465        95.749603   \n",
      "2      0    0.496010  0.424993        26.852402        63.183121   \n",
      "3      0    0.235603  0.173532        16.970860        97.796976   \n",
      "4      0    0.568931  0.421971        32.230172        76.380108   \n",
      "5      0    0.828367  0.758794        36.341250        47.893423   \n",
      "6      1    0.696388  0.560969        38.579409        68.772744   \n",
      "7      1    0.628194  0.571585        29.008646        50.751281   \n",
      "\n",
      "   Maximum2DDiameterColumn  Maximum2DDiameterRow  Maximum2DDiameterSlice  \\\n",
      "0                36.400549             38.483763               29.154759   \n",
      "1                92.195445             95.524866               90.249654   \n",
      "2                56.293872             72.111026               43.931765   \n",
      "3                83.240615             87.800911               29.832868   \n",
      "4                88.509886             79.649231               53.460266   \n",
      "5                54.817880             50.803543               56.080300   \n",
      "6                76.295478             66.370174               76.791927   \n",
      "7                45.705580             57.314920               47.759816   \n",
      "\n",
      "   Maximum3DDiameter    MeshVolume  ...  SmallAreaHighGrayLevelEmphasis.8  \\\n",
      "0          39.306488    8820.62500  ...                         30.917175   \n",
      "1          99.849887  118959.91670  ...                         72.323064   \n",
      "2          72.553429   36302.70833  ...                         12.311298   \n",
      "3         101.405128   17896.58333  ...                         20.324054   \n",
      "4          88.600226   57876.83333  ...                        108.669144   \n",
      "5          56.665686   46632.66667  ...                         20.919776   \n",
      "6          79.347338   68614.00000  ...                         12.014276   \n",
      "7          58.906706   32517.83333  ...                        116.946346   \n",
      "\n",
      "   SmallAreaLowGrayLevelEmphasis.8  ZoneEntropy.8  ZonePercentage.8  \\\n",
      "0                         0.024969       6.057898          0.055223   \n",
      "1                         0.004772       6.929502          0.013275   \n",
      "2                         0.027551       6.394168          0.008168   \n",
      "3                         0.023264       6.126527          0.021752   \n",
      "4                         0.003785       6.423224          0.027818   \n",
      "5                         0.012368       6.736993          0.012168   \n",
      "6                         0.009021       6.672188          0.009083   \n",
      "7                         0.003268       6.701206          0.019742   \n",
      "\n",
      "   ZoneVariance.8  Busyness.8  Coarseness.8  Complexity.8  Contrast.17  \\\n",
      "0    3.071790e+04    2.702525      0.001348     69.343845     0.021115   \n",
      "1    2.387535e+06   10.563703      0.000100    280.685747     0.000987   \n",
      "2    1.153363e+06   29.476822      0.000292     27.366604     0.005850   \n",
      "3    1.339019e+05    8.046222      0.000665     44.055239     0.009856   \n",
      "4    2.693982e+05    5.753952      0.000263    145.587829     0.008750   \n",
      "5    1.231160e+06   22.331635      0.000194     43.280672     0.004399   \n",
      "6    2.016786e+06   68.688798      0.000141     23.293268     0.007161   \n",
      "7    2.986272e+05    3.924843      0.000344    163.701746     0.005504   \n",
      "\n",
      "   Strength.8  \n",
      "0    0.227367  \n",
      "1    0.250622  \n",
      "2    0.028920  \n",
      "3    0.074485  \n",
      "4    0.120720  \n",
      "5    0.037959  \n",
      "6    0.008710  \n",
      "7    0.206115  \n",
      "\n",
      "[8 rows x 852 columns]\n"
     ]
    }
   ],
   "source": [
    "#lasso 部分 对应那个视频\n",
    "#先从表格读取数据\n",
    "data=pd.read_csv('./new_data.csv')\n",
    "\n",
    "test_data=data.sample(frac=0.1,axis=0) #从原来的表里面随机取出10%的数据做测试集,按行\n",
    "train_data=data[~data.index.isin(test_data.index)] #剔除test_data的样本，作为训练集\n",
    "\n",
    "x_train=train_data[train_data.columns[1:]]\n",
    "y_train=train_data['label']\n",
    "colNames=x_train.columns\n",
    "\n",
    "x_test=test_data[test_data.columns[1:]]\n",
    "y_test=test_data['label']"
   ]
  },
  {
   "cell_type": "code",
   "execution_count": 2,
   "id": "5de1d38c",
   "metadata": {},
   "outputs": [
    {
     "name": "stdout",
     "output_type": "stream",
     "text": [
      "10.0\n",
      "Lasso picked \n",
      "0\n",
      " variables and eliminated the other \n",
      "851\n",
      "Series([], dtype: float64)\n"
     ]
    }
   ],
   "source": [
    "\n",
    "\n",
    "#规整化x\n",
    "x=x.astype(np.float64)\n",
    "x=StandardScaler().fit_transform(x)\n",
    "x=pd.DataFrame(x)\n",
    "x.columns=colNames\n",
    "x_raw=x\n",
    "#调用sklearn的lasso方法，对x，y建模\n",
    "'''\n",
    "这里有几个参数，具体用法需要知道lasso算法的具体步骤\n",
    "我们先用视频中的参数试一下，之后您进行调参，需要具体了解lasso\n",
    "因为我们的样本不够多，这里我做了稍微调整\n",
    "\n",
    "'''\n",
    "model=LassoCV(alphas=np.logspace(-3,1,200),cv=2,max_iter=10000).fit(x,y)\n",
    "\n",
    "#建模之后，我们可以在model里取得我们需要的信息\n",
    "print(model.alpha_)\n",
    "coef=pd.Series(model.coef_,index=x.columns)\n",
    "print(\"Lasso picked \\n\"\n",
    "      +str(sum(coef!=0))\n",
    "      +\"\\n variables and eliminated the other \\n\"\n",
    "      +str(sum(coef==0)))\n",
    "\n",
    "#输出降维后的特征\n",
    "index = coef[coef !=0].index\n",
    "x=x[index]\n",
    "print(coef[coef !=0])"
   ]
  },
  {
   "cell_type": "code",
   "execution_count": 3,
   "id": "253d40e5",
   "metadata": {},
   "outputs": [],
   "source": [
    "def draw2(model,a1,a2,a3,max_iter=10000):\n",
    "    \"\"\"\n",
    "    输入:model,lasso模型,a1,a2,a3,分别为logspace三个参数\n",
    "    \"\"\"\n",
    "    coefs=model.path(x_raw,y,alphas=np.logspace(a1,a2,a3),max_iter=max_iter)[1].T\n",
    "    fig,ax_f=plt.subplots()\n",
    "    plt.xlim(10**a1,10**a2)\n",
    "    ax_c=ax_f.twiny()\n",
    "    ax_f.semilogx(model.alphas_,coefs,'-')\n",
    "    ax_f.axvline(model.alpha_,color='black',ls='--')\n",
    "    ax_f.set_xlabel('Lambda')\n",
    "    ax_f.set_ylabel('Coefficients')\n",
    "    \n",
    "    ncoefs=coefs.copy()\n",
    "    ncoefs[ncoefs!=0]=1\n",
    "    xsum=ncoefs.sum(axis=1)\n",
    "\n",
    "    #print(list(range(a3))[::40],xsum[::40])\n",
    "    k=a3//(a2-a1+1)\n",
    "    ax_c.set_xticks(list(range(a3))[::k],labels=list(map(int,xsum))[::k])\n",
    "    ax_c.invert_xaxis()\n",
    "    plt.show()\n",
    "\n",
    "    MSEs=(model.mse_path_)\n",
    "    MSEs_mean=np.apply_along_axis(np.mean,1,MSEs)\n",
    "    MSEs_std=np.apply_along_axis(np.std,1,MSEs)\n",
    "\n",
    "    fig,ax_f=plt.subplots()\n",
    "    plt.xlim(10**a1,10**a2)\n",
    "    ax_c=ax_f.twiny()\n",
    "    k=a3//20\n",
    "    ax_c.set_xticks(list(range(a3))[::10],labels=list(map(int,xsum))[::10])\n",
    "    ax_c.invert_xaxis()\n",
    "    ax_f.errorbar(model.alphas_,MSEs_mean\n",
    "                 ,yerr=MSEs_std\n",
    "                 ,fmt=\"o\"\n",
    "                 ,ms=1\n",
    "                 ,mfc=\"r\"\n",
    "                 ,mec=\"r\"\n",
    "                 ,ecolor=\"lightblue\"\n",
    "                 ,elinewidth=1\n",
    "                 ,capsize=3\n",
    "                 ,capthick=1)\n",
    "    ax_f.semilogx()\n",
    "\n",
    "    ax_f.axvline(model.alpha_,color='black',ls='--')\n",
    "    ax_f.set_xlabel('Lambda')\n",
    "    ax_f.set_ylabel('*Binomial Deviance')\n",
    "    ax=plt.gca()\n",
    "    y_major_locator=MultipleLocator(0.06)\n",
    "    ax.yaxis.set_major_locator(y_major_locator)\n",
    "    plt.show()"
   ]
  },
  {
   "cell_type": "code",
   "execution_count": 4,
   "id": "8530b459",
   "metadata": {},
   "outputs": [
    {
     "data": {
      "image/png": "[encoded data removed]",
      "text/plain": [
       "<Figure size 432x288 with 2 Axes>"
      ]
     },
     "metadata": {
      "needs_background": "light"
     },
     "output_type": "display_data"
    },
    {
     "data": {
      "image/png": "[encoded data removed]",
      "text/plain": [
       "<Figure size 432x288 with 2 Axes>"
      ]
     },
     "metadata": {
      "needs_background": "light"
     },
     "output_type": "display_data"
    }
   ],
   "source": [
    "import matplotlib.pyplot as plt\n",
    "from matplotlib.pyplot import MultipleLocator\n",
    "draw2(model,-3,1,200,max_iter=10000)"
   ]
  },
  {
   "cell_type": "code",
   "execution_count": null,
   "id": "93d55805",
   "metadata": {},
   "outputs": [],
   "source": []
  }
 ],
 "metadata": {
  "kernelspec": {
   "display_name": "Python 3 (ipykernel)",
   "language": "python",
   "name": "python3"
  },
  "language_info": {
   "codemirror_mode": {
    "name": "ipython",
    "version": 3
   },
   "file_extension": ".py",
   "mimetype": "text/x-python",
   "name": "python",
   "nbconvert_exporter": "python",
   "pygments_lexer": "ipython3",
   "version": "3.9.10"
  }
 },
 "nbformat": 4,
 "nbformat_minor": 5
}
